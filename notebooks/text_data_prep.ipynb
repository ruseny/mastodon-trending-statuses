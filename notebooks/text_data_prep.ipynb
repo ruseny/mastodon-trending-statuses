{
 "cells": [
  {
   "cell_type": "markdown",
   "metadata": {},
   "source": [
    "# Preparing text data as input for pretrained DistilBERT model"
   ]
  },
  {
   "cell_type": "markdown",
   "metadata": {},
   "source": [
    "## Importing pandas dataframes\n",
    "\n",
    "Get all pkl files from directory of cleaned datasets"
   ]
  },
  {
   "cell_type": "code",
   "execution_count": 1,
   "metadata": {},
   "outputs": [],
   "source": [
    "import os\n",
    "import pandas as pd"
   ]
  },
  {
   "cell_type": "code",
   "execution_count": 2,
   "metadata": {},
   "outputs": [],
   "source": [
    "PATH = \"../data/cleaned/\"\n",
    "list_files = [f for f in os.listdir(PATH) if (os.path.isfile(os.path.join(PATH, f))) and (f[-3:] == \"pkl\")]\n",
    "\n",
    "dict_dfs = {}\n",
    "for file_name in list_files:\n",
    "    file_path = os.path.join(PATH, file_name)\n",
    "    df = pd.read_pickle(file_path)\n",
    "    df = df[[\"id\", \"created_at\", \"content_only_alphanum\", \"content_length_alphanum\", \"trend\"]]\n",
    "    dict_dfs[file_name] = df"
   ]
  },
  {
   "cell_type": "markdown",
   "metadata": {},
   "source": [
    "## EDA"
   ]
  },
  {
   "cell_type": "markdown",
   "metadata": {},
   "source": [
    "### Prepare datasets for EDA"
   ]
  },
  {
   "cell_type": "markdown",
   "metadata": {},
   "source": [
    "One single dataset"
   ]
  },
  {
   "cell_type": "code",
   "execution_count": 3,
   "metadata": {},
   "outputs": [
    {
     "name": "stderr",
     "output_type": "stream",
     "text": [
      "/tmp/ipykernel_12342/3168140750.py:5: FutureWarning: The behavior of DataFrame concatenation with empty or all-NA entries is deprecated. In a future version, this will no longer exclude empty or all-NA columns when determining the result dtypes. To retain the old behavior, exclude the relevant entries before the concat operation.\n",
      "  df_all = pd.concat([df_all, dict_dfs[df_name]])\n"
     ]
    }
   ],
   "source": [
    "col_names = dict_dfs[list(dict_dfs.keys())[0]].columns\n",
    "df_all = pd.DataFrame(columns = col_names)\n",
    "for df_name in dict_dfs:\n",
    "    dict_dfs[df_name][\"orig_df\"] = df_name\n",
    "    df_all = pd.concat([df_all, dict_dfs[df_name]])\n",
    "df_all = df_all.reset_index(drop = True)"
   ]
  },
  {
   "cell_type": "markdown",
   "metadata": {},
   "source": [
    "Get a new column for 'trending or not' and remove cases with too short content."
   ]
  },
  {
   "cell_type": "code",
   "execution_count": 4,
   "metadata": {},
   "outputs": [],
   "source": [
    "df_all[\"trending\"] = df_all[\"trend\"].map(lambda x: 1 if x == \"trending\" else 0)\n",
    "df_all[\"content_length_alphanum\"] = df_all[\"content_length_alphanum\"].astype(\"int64\")\n",
    "df_all = df_all[df_all[\"content_length_alphanum\"] > 2]"
   ]
  },
  {
   "cell_type": "markdown",
   "metadata": {},
   "source": [
    "One dataset for 'any adjacent', and one for 'account focused adjacent':"
   ]
  },
  {
   "cell_type": "code",
   "execution_count": 5,
   "metadata": {},
   "outputs": [],
   "source": [
    "df_trd = df_all[df_all[\"trend\"] == \"trending\"].drop_duplicates(subset = \"id\", keep = \"first\")\n",
    "df_adj_any = df_all[df_all[\"trend\"].isin([\"adjacent_1\", \"adjacent_3\"])].drop_duplicates(subset = \"id\", keep = \"first\")\n",
    "df_adj_acc = df_all[df_all[\"trend\"].isin([\"adjacent_2\", \"adjacent_4\"])].drop_duplicates(subset = \"id\", keep = \"first\")\n",
    "df_any = pd.concat([df_trd, df_adj_any]).drop_duplicates(subset = \"id\", keep = \"first\").reset_index(drop = True)\n",
    "df_acc = pd.concat([df_trd, df_adj_acc]).drop_duplicates(subset = \"id\", keep = \"first\").reset_index(drop = True)"
   ]
  },
  {
   "cell_type": "markdown",
   "metadata": {},
   "source": [
    "### Inspect content lenght"
   ]
  },
  {
   "cell_type": "code",
   "execution_count": 6,
   "metadata": {},
   "outputs": [],
   "source": [
    "import matplotlib.pyplot as plt\n",
    "import seaborn as sns"
   ]
  },
  {
   "cell_type": "code",
   "execution_count": 7,
   "metadata": {},
   "outputs": [
    {
     "data": {
      "text/plain": [
       "<Axes: xlabel='content_length_alphanum', ylabel='Count'>"
      ]
     },
     "execution_count": 7,
     "metadata": {},
     "output_type": "execute_result"
    },
    {
     "data": {
      "image/png": "[encoded data removed]",
      "text/plain": [
       "<Figure size 1200x500 with 2 Axes>"
      ]
     },
     "metadata": {},
     "output_type": "display_data"
    }
   ],
   "source": [
    "fig, (ax1, ax2) = plt.subplots(1, 2, figsize = (12, 5))\n",
    "sns.histplot(data = df_any, ax = ax1, x = \"content_length_alphanum\", hue = \"trending\")\n",
    "sns.histplot(data = df_acc, ax = ax2, x = \"content_length_alphanum\", hue = \"trending\")"
   ]
  },
  {
   "cell_type": "code",
   "execution_count": 8,
   "metadata": {},
   "outputs": [
    {
     "name": "stdout",
     "output_type": "stream",
     "text": [
      "count    20186.000000\n",
      "mean        28.406420\n",
      "std         34.636369\n",
      "min          3.000000\n",
      "25%         11.000000\n",
      "50%         18.000000\n",
      "75%         37.000000\n",
      "max       1596.000000\n",
      "Name: content_length_alphanum, dtype: float64\n",
      "trending\n",
      "0    74.0\n",
      "1    82.0\n",
      "Name: content_length_alphanum, dtype: float64\n",
      "trending\n",
      "0     99.00\n",
      "1    164.82\n",
      "Name: content_length_alphanum, dtype: float64\n",
      "count    19000.000000\n",
      "mean        29.623474\n",
      "std         34.974979\n",
      "min          3.000000\n",
      "25%         11.000000\n",
      "50%         21.000000\n",
      "75%         40.000000\n",
      "max       1624.000000\n",
      "Name: content_length_alphanum, dtype: float64\n",
      "trending\n",
      "0    73.0\n",
      "1    82.0\n",
      "Name: content_length_alphanum, dtype: float64\n",
      "trending\n",
      "0    113.00\n",
      "1    164.82\n",
      "Name: content_length_alphanum, dtype: float64\n"
     ]
    }
   ],
   "source": [
    "print(df_any[\"content_length_alphanum\"].describe())\n",
    "print(df_any.groupby(\"trending\")[\"content_length_alphanum\"].quantile(0.95)) \n",
    "print(df_any.groupby(\"trending\")[\"content_length_alphanum\"].quantile(0.99)) \n",
    "print(df_acc[\"content_length_alphanum\"].describe())\n",
    "print(df_acc.groupby(\"trending\")[\"content_length_alphanum\"].quantile(0.95))\n",
    "print(df_acc.groupby(\"trending\")[\"content_length_alphanum\"].quantile(0.99))"
   ]
  },
  {
   "cell_type": "markdown",
   "metadata": {},
   "source": [
    "## Prepare text data"
   ]
  },
  {
   "cell_type": "markdown",
   "metadata": {},
   "source": [
    "Let's focus on 'account-focused' control cases, and split this dataframe for training-validation-testing, unsing original datasets as reference (5 for training, 2 for validation, 2 for testing)."
   ]
  },
  {
   "cell_type": "code",
   "execution_count": 26,
   "metadata": {},
   "outputs": [],
   "source": [
    "dict_dfs_text = {}\n",
    "dict_dfs_text[\"train\"] = df_acc[df_acc[\"orig_df\"].isin(list_files[:5])]\n",
    "dict_dfs_text[\"valid\"] = df_acc[df_acc[\"orig_df\"].isin(list_files[5:7])]\n",
    "dict_dfs_text[\"test\"] = df_acc[df_acc[\"orig_df\"].isin(list_files[7:])]"
   ]
  },
  {
   "cell_type": "markdown",
   "metadata": {},
   "source": [
    "Keep only text and label, and rename."
   ]
  },
  {
   "cell_type": "code",
   "execution_count": 27,
   "metadata": {},
   "outputs": [],
   "source": [
    "map_col_names = {\"content_only_alphanum\": \"text\", \"trending\" : \"label\"}\n",
    "for df_name in dict_dfs_text:\n",
    "    dict_dfs_text[df_name] = dict_dfs_text[df_name][map_col_names.keys()].rename(columns = map_col_names)"
   ]
  },
  {
   "cell_type": "markdown",
   "metadata": {},
   "source": [
    "Save"
   ]
  },
  {
   "cell_type": "code",
   "execution_count": 31,
   "metadata": {},
   "outputs": [],
   "source": [
    "import os\n",
    "if not os.path.exists(\"../data/text\"):\n",
    "    os.mkdir(\"../data/text\")\n",
    "\n",
    "for split in dict_dfs_text:\n",
    "    dict_dfs_text[split].to_csv(f\"../data/text/acc_{split}.csv\", index = False)"
   ]
  }
 ],
 "metadata": {
  "kernelspec": {
   "display_name": "mastodon",
   "language": "python",
   "name": "python3"
  },
  "language_info": {
   "codemirror_mode": {
    "name": "ipython",
    "version": 3
   },
   "file_extension": ".py",
   "mimetype": "text/x-python",
   "name": "python",
   "nbconvert_exporter": "python",
   "pygments_lexer": "ipython3",
   "version": "3.11.11"
  }
 },
 "nbformat": 4,
 "nbformat_minor": 2
}
